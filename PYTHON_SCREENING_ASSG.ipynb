{
 "cells": [
  {
   "cell_type": "code",
   "execution_count": 1,
   "id": "6b8d410c",
   "metadata": {},
   "outputs": [],
   "source": [
    "#create in the  file\n",
    "f= open(\"sample.txt\",\"w\") "
   ]
  },
  {
   "cell_type": "code",
   "execution_count": 2,
   "id": "99ecdafe",
   "metadata": {},
   "outputs": [
    {
     "name": "stdout",
     "output_type": "stream",
     "text": [
      " Volume in drive F is New Volume\n",
      " Volume Serial Number is F2C7-816B\n",
      "\n",
      " Directory of F:\\oops\n",
      "\n",
      "06/08/2022  06:43 PM    <DIR>          .\n",
      "06/08/2022  06:43 PM    <DIR>          ..\n",
      "06/08/2022  04:53 PM    <DIR>          .ipynb_checkpoints\n",
      "06/08/2022  06:43 PM             9,157 PYTHON_SCREENING_ASSG.ipynb\n",
      "06/08/2022  06:45 PM                 0 sample.txt\n",
      "06/08/2022  11:23 AM             1,434 Untitled.ipynb\n",
      "06/08/2022  04:53 PM                72 Untitled1.ipynb\n",
      "               4 File(s)         10,663 bytes\n",
      "               3 Dir(s)  309,002,280,960 bytes free\n"
     ]
    }
   ],
   "source": [
    "ls"
   ]
  },
  {
   "cell_type": "code",
   "execution_count": 3,
   "id": "4e0c6f3d",
   "metadata": {},
   "outputs": [],
   "source": [
    "f=open('sample.txt',\"w\")"
   ]
  },
  {
   "cell_type": "code",
   "execution_count": 4,
   "id": "6952076b",
   "metadata": {},
   "outputs": [
    {
     "data": {
      "text/plain": [
       "28"
      ]
     },
     "execution_count": 4,
     "metadata": {},
     "output_type": "execute_result"
    }
   ],
   "source": [
    "f.write(\"This is placement assignment\")"
   ]
  },
  {
   "cell_type": "code",
   "execution_count": 5,
   "id": "278a3187",
   "metadata": {},
   "outputs": [],
   "source": [
    "f.close()"
   ]
  },
  {
   "cell_type": "code",
   "execution_count": 6,
   "id": "d88af538",
   "metadata": {},
   "outputs": [
    {
     "name": "stdout",
     "output_type": "stream",
     "text": [
      "This is placement assignment\n"
     ]
    }
   ],
   "source": [
    "#read file\n",
    "f=open('sample.txt')\n",
    "data=f.read()\n",
    "print(data)"
   ]
  },
  {
   "cell_type": "code",
   "execution_count": 7,
   "id": "a57702e2",
   "metadata": {},
   "outputs": [],
   "source": [
    "#replace the target string\n",
    "data=data.replace('placement','screening')"
   ]
  },
  {
   "cell_type": "code",
   "execution_count": 8,
   "id": "c824b78b",
   "metadata": {},
   "outputs": [],
   "source": [
    "f.close()"
   ]
  },
  {
   "cell_type": "code",
   "execution_count": 9,
   "id": "aefe81f6",
   "metadata": {},
   "outputs": [],
   "source": [
    "f=open('sample.txt',\"w\")"
   ]
  },
  {
   "cell_type": "code",
   "execution_count": 10,
   "id": "546418b7",
   "metadata": {},
   "outputs": [
    {
     "data": {
      "text/plain": [
       "28"
      ]
     },
     "execution_count": 10,
     "metadata": {},
     "output_type": "execute_result"
    }
   ],
   "source": [
    "f.write(data)"
   ]
  },
  {
   "cell_type": "code",
   "execution_count": 11,
   "id": "2af4088f",
   "metadata": {},
   "outputs": [],
   "source": [
    "f.close()"
   ]
  },
  {
   "cell_type": "code",
   "execution_count": 12,
   "id": "81a4988f",
   "metadata": {},
   "outputs": [
    {
     "data": {
      "text/plain": [
       "'This is screening assignment'"
      ]
     },
     "execution_count": 12,
     "metadata": {},
     "output_type": "execute_result"
    }
   ],
   "source": [
    "#replace the file content\n",
    "f=open('sample.txt')\n",
    "f.read()"
   ]
  },
  {
   "cell_type": "code",
   "execution_count": 13,
   "id": "7924e623",
   "metadata": {},
   "outputs": [],
   "source": [
    "f.close()"
   ]
  },
  {
   "cell_type": "markdown",
   "id": "9fcb94de",
   "metadata": {},
   "source": [
    "# Abstract Class\n",
    "Abstraction in Python is the process of hiding the real implementation of an application from the user and emphasizing only on usage of it. \n",
    "eg.consider you have bought a new electronic gadget. Along with the gadget, you get a user guide, instructing how to use the application, but this user guide has no info regarding the internal working of the gadget."
   ]
  },
  {
   "cell_type": "code",
   "execution_count": 23,
   "id": "10ee7a36",
   "metadata": {},
   "outputs": [
    {
     "name": "stdout",
     "output_type": "stream",
     "text": [
      "enter length of rectangle:4\n",
      "enter breath of rectangle:3\n"
     ]
    },
    {
     "ename": "NameError",
     "evalue": "name 'a' is not defined",
     "output_type": "error",
     "traceback": [
      "\u001b[1;31m---------------------------------------------------------------------------\u001b[0m",
      "\u001b[1;31mNameError\u001b[0m                                 Traceback (most recent call last)",
      "\u001b[1;32m~\\AppData\\Local\\Temp/ipykernel_17636/1447942593.py\u001b[0m in \u001b[0;36m<module>\u001b[1;34m\u001b[0m\n\u001b[0;32m     13\u001b[0m     \u001b[0ma\u001b[0m\u001b[1;33m=\u001b[0m\u001b[0mint\u001b[0m\u001b[1;33m(\u001b[0m\u001b[0minput\u001b[0m\u001b[1;33m(\u001b[0m\u001b[1;34m'enter length of rectangle:'\u001b[0m\u001b[1;33m)\u001b[0m\u001b[1;33m)\u001b[0m\u001b[1;33m\u001b[0m\u001b[1;33m\u001b[0m\u001b[0m\n\u001b[0;32m     14\u001b[0m     \u001b[0mb\u001b[0m\u001b[1;33m=\u001b[0m\u001b[0mint\u001b[0m\u001b[1;33m(\u001b[0m\u001b[0minput\u001b[0m\u001b[1;33m(\u001b[0m\u001b[1;34m'enter breath of rectangle:'\u001b[0m\u001b[1;33m)\u001b[0m\u001b[1;33m)\u001b[0m\u001b[1;33m\u001b[0m\u001b[1;33m\u001b[0m\u001b[0m\n\u001b[1;32m---> 15\u001b[1;33m \u001b[0mrect1\u001b[0m\u001b[1;33m=\u001b[0m\u001b[0mrectangle\u001b[0m\u001b[1;33m(\u001b[0m\u001b[0ma\u001b[0m\u001b[1;33m,\u001b[0m\u001b[0mb\u001b[0m\u001b[1;33m)\u001b[0m\u001b[1;33m\u001b[0m\u001b[1;33m\u001b[0m\u001b[0m\n\u001b[0m\u001b[0;32m     16\u001b[0m \u001b[0mprint\u001b[0m\u001b[1;33m(\u001b[0m\u001b[1;34m'area of rectangle:'\u001b[0m\u001b[1;33m,\u001b[0m\u001b[0mrect1\u001b[0m\u001b[1;33m.\u001b[0m\u001b[0marea\u001b[0m\u001b[1;33m(\u001b[0m\u001b[1;33m)\u001b[0m\u001b[1;33m)\u001b[0m\u001b[1;33m\u001b[0m\u001b[1;33m\u001b[0m\u001b[0m\n\u001b[0;32m     17\u001b[0m \u001b[0mprint\u001b[0m\u001b[1;33m(\u001b[0m\u001b[1;33m)\u001b[0m\u001b[1;33m\u001b[0m\u001b[1;33m\u001b[0m\u001b[0m\n",
      "\u001b[1;31mNameError\u001b[0m: name 'a' is not defined"
     ]
    }
   ],
   "source": [
    "from abc import ABC,abstractmethod\n",
    "class shape(ABC):\n",
    "    def area(self):\n",
    "        return 0\n",
    "class rectangle(shape):\n",
    "    type=\"rectangle\"\n",
    "    sides=4\n",
    "    def _init_(self):\n",
    "        self.length=length\n",
    "        self.breath=breath\n",
    "    def area(self):\n",
    "        return self.length*self.breath\n",
    "    a=int(input('enter length of rectangle:'))\n",
    "    b=int(input('enter breath of rectangle:'))\n",
    "rect1=rectangle(a,b)\n",
    "print('area of rectangle:',rect1.area())\n",
    "print()\n",
    "    \n",
    "        \n",
    "        "
   ]
  },
  {
   "cell_type": "markdown",
   "id": "ffa6025a",
   "metadata": {},
   "source": [
    "# Multiple Inheritance\n",
    "It is a feature of some object-oriented computer programming languages in which an object or class can inherit features from more than one parent object or parent class."
   ]
  },
  {
   "cell_type": "code",
   "execution_count": 20,
   "id": "5dbd774a",
   "metadata": {},
   "outputs": [],
   "source": [
    "class Ineuron:\n",
    "    comapny_website=\"htps://ineuron.ai/\"\n",
    "    name='ineuron'\n",
    "    \n",
    "class OS:\n",
    "    multi_task=True\n",
    "    os_name='windows OS'\n",
    "\n",
    "class windows(OS,Ineuron):\n",
    "    def _init_(self):\n",
    "        if self.multi_task is True:\n",
    "            print('multi_task')\n",
    "        print('Name:{}'.format(self.name))\n",
    "windows=windows()"
   ]
  },
  {
   "cell_type": "markdown",
   "id": "aa617d05",
   "metadata": {},
   "source": [
    "# Decorator\n",
    " it allows programmers to modify the behaviour of a function or class. Decorators allow us to wrap another function in order to extend the behaviour of the wrapped function, without permanently modifying it. But before diving deep into decorators let us understand some concepts that will come in handy in learning the decorators."
   ]
  },
  {
   "cell_type": "code",
   "execution_count": 24,
   "id": "6fab3e30",
   "metadata": {},
   "outputs": [
    {
     "name": "stdout",
     "output_type": "stream",
     "text": [
      "Hello, this is before function execution\n",
      "This is inside the function !!\n",
      "This is after function execution\n"
     ]
    }
   ],
   "source": [
    "def hello_decorator(func):\n",
    "    def inner1():\n",
    "        print(\"Hello, this is before function execution\")\n",
    "        \n",
    "        func()\n",
    " \n",
    "        print(\"This is after function execution\")\n",
    "         \n",
    "    return inner1\n",
    " \n",
    "def function_to_be_used():\n",
    "    print(\"This is inside the function !!\")\n",
    "function_to_be_used = hello_decorator(function_to_be_used)\n",
    " \n",
    "function_to_be_used()"
   ]
  },
  {
   "cell_type": "code",
   "execution_count": null,
   "id": "c9de50a8",
   "metadata": {},
   "outputs": [],
   "source": [
    "\n"
   ]
  },
  {
   "cell_type": "markdown",
   "id": "28f86d54",
   "metadata": {},
   "source": []
  }
 ],
 "metadata": {
  "kernelspec": {
   "display_name": "Python 3 (ipykernel)",
   "language": "python",
   "name": "python3"
  },
  "language_info": {
   "codemirror_mode": {
    "name": "ipython",
    "version": 3
   },
   "file_extension": ".py",
   "mimetype": "text/x-python",
   "name": "python",
   "nbconvert_exporter": "python",
   "pygments_lexer": "ipython3",
   "version": "3.9.7"
  }
 },
 "nbformat": 4,
 "nbformat_minor": 5
}
